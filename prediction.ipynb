{
 "cells": [
  {
   "cell_type": "code",
   "execution_count": 306,
   "metadata": {},
   "outputs": [],
   "source": [
    "# pip install tensorflow keras"
   ]
  },
  {
   "cell_type": "code",
   "execution_count": 1,
   "metadata": {},
   "outputs": [],
   "source": [
    "import numpy as np\n",
    "import pandas as pd\n",
    "from keras.layers import GRU\n",
    "from keras.optimizers import SGD\n",
    "from subprocess import check_output\n",
    "from keras.layers.core import Dense, Activation, Dropout\n",
    "from keras.layers import LSTM\n",
    "from keras.models import Sequential\n",
    "from sklearn.model_selection import train_test_split\n",
    "import time\n",
    "from sklearn.preprocessing import MinMaxScaler\n",
    "import matplotlib.pyplot as plt\n",
    "from numpy import newaxis"
   ]
  },
  {
   "cell_type": "code",
   "execution_count": 2,
   "metadata": {},
   "outputs": [],
   "source": [
    "from tvDatafeed import TvDatafeed,Interval"
   ]
  },
  {
   "cell_type": "code",
   "execution_count": 3,
   "metadata": {},
   "outputs": [
    {
     "name": "stderr",
     "output_type": "stream",
     "text": [
      "you are using nologin method, data you access may be limited\n"
     ]
    }
   ],
   "source": [
    "tv = TvDatafeed()"
   ]
  },
  {
   "cell_type": "code",
   "execution_count": 4,
   "metadata": {},
   "outputs": [],
   "source": [
    "niftydf = tv.get_hist(symbol='NIFTY_50', exchange='NSE', interval=Interval.in_daily,n_bars=5000)"
   ]
  },
  {
   "cell_type": "code",
   "execution_count": 5,
   "metadata": {},
   "outputs": [],
   "source": [
    "niftydf.to_csv('data.csv')"
   ]
  },
  {
   "cell_type": "code",
   "execution_count": 6,
   "metadata": {},
   "outputs": [
    {
     "data": {
      "text/html": [
       "<div>\n",
       "<style scoped>\n",
       "    .dataframe tbody tr th:only-of-type {\n",
       "        vertical-align: middle;\n",
       "    }\n",
       "\n",
       "    .dataframe tbody tr th {\n",
       "        vertical-align: top;\n",
       "    }\n",
       "\n",
       "    .dataframe thead th {\n",
       "        text-align: right;\n",
       "    }\n",
       "</style>\n",
       "<table border=\"1\" class=\"dataframe\">\n",
       "  <thead>\n",
       "    <tr style=\"text-align: right;\">\n",
       "      <th></th>\n",
       "      <th>symbol</th>\n",
       "      <th>open</th>\n",
       "      <th>high</th>\n",
       "      <th>low</th>\n",
       "      <th>close</th>\n",
       "      <th>volume</th>\n",
       "    </tr>\n",
       "    <tr>\n",
       "      <th>datetime</th>\n",
       "      <th></th>\n",
       "      <th></th>\n",
       "      <th></th>\n",
       "      <th></th>\n",
       "      <th></th>\n",
       "      <th></th>\n",
       "    </tr>\n",
       "  </thead>\n",
       "  <tbody>\n",
       "    <tr>\n",
       "      <th>2022-10-20 09:15:00</th>\n",
       "      <td>NSE:NIFTY_50</td>\n",
       "      <td>17423.100</td>\n",
       "      <td>17584.15</td>\n",
       "      <td>17421.00</td>\n",
       "      <td>17563.949</td>\n",
       "      <td>249604832.0</td>\n",
       "    </tr>\n",
       "    <tr>\n",
       "      <th>2022-10-21 09:15:00</th>\n",
       "      <td>NSE:NIFTY_50</td>\n",
       "      <td>17622.850</td>\n",
       "      <td>17670.15</td>\n",
       "      <td>17520.75</td>\n",
       "      <td>17576.301</td>\n",
       "      <td>277702680.0</td>\n",
       "    </tr>\n",
       "    <tr>\n",
       "      <th>2022-10-24 18:15:00</th>\n",
       "      <td>NSE:NIFTY_50</td>\n",
       "      <td>17736.350</td>\n",
       "      <td>17777.55</td>\n",
       "      <td>17707.40</td>\n",
       "      <td>17730.750</td>\n",
       "      <td>45029477.0</td>\n",
       "    </tr>\n",
       "    <tr>\n",
       "      <th>2022-10-25 09:15:00</th>\n",
       "      <td>NSE:NIFTY_50</td>\n",
       "      <td>17808.301</td>\n",
       "      <td>17811.50</td>\n",
       "      <td>17637.00</td>\n",
       "      <td>17656.350</td>\n",
       "      <td>251358203.0</td>\n",
       "    </tr>\n",
       "    <tr>\n",
       "      <th>2022-10-27 09:15:00</th>\n",
       "      <td>NSE:NIFTY_50</td>\n",
       "      <td>17771.400</td>\n",
       "      <td>17783.90</td>\n",
       "      <td>17704.50</td>\n",
       "      <td>17707.050</td>\n",
       "      <td>178739833.0</td>\n",
       "    </tr>\n",
       "  </tbody>\n",
       "</table>\n",
       "</div>"
      ],
      "text/plain": [
       "                           symbol       open      high       low      close  \\\n",
       "datetime                                                                      \n",
       "2022-10-20 09:15:00  NSE:NIFTY_50  17423.100  17584.15  17421.00  17563.949   \n",
       "2022-10-21 09:15:00  NSE:NIFTY_50  17622.850  17670.15  17520.75  17576.301   \n",
       "2022-10-24 18:15:00  NSE:NIFTY_50  17736.350  17777.55  17707.40  17730.750   \n",
       "2022-10-25 09:15:00  NSE:NIFTY_50  17808.301  17811.50  17637.00  17656.350   \n",
       "2022-10-27 09:15:00  NSE:NIFTY_50  17771.400  17783.90  17704.50  17707.050   \n",
       "\n",
       "                          volume  \n",
       "datetime                          \n",
       "2022-10-20 09:15:00  249604832.0  \n",
       "2022-10-21 09:15:00  277702680.0  \n",
       "2022-10-24 18:15:00   45029477.0  \n",
       "2022-10-25 09:15:00  251358203.0  \n",
       "2022-10-27 09:15:00  178739833.0  "
      ]
     },
     "execution_count": 6,
     "metadata": {},
     "output_type": "execute_result"
    }
   ],
   "source": [
    "niftydf.tail()"
   ]
  },
  {
   "cell_type": "code",
   "execution_count": 7,
   "metadata": {},
   "outputs": [
    {
     "data": {
      "text/html": [
       "<div>\n",
       "<style scoped>\n",
       "    .dataframe tbody tr th:only-of-type {\n",
       "        vertical-align: middle;\n",
       "    }\n",
       "\n",
       "    .dataframe tbody tr th {\n",
       "        vertical-align: top;\n",
       "    }\n",
       "\n",
       "    .dataframe thead th {\n",
       "        text-align: right;\n",
       "    }\n",
       "</style>\n",
       "<table border=\"1\" class=\"dataframe\">\n",
       "  <thead>\n",
       "    <tr style=\"text-align: right;\">\n",
       "      <th></th>\n",
       "      <th>symbol</th>\n",
       "      <th>open</th>\n",
       "      <th>high</th>\n",
       "      <th>low</th>\n",
       "      <th>close</th>\n",
       "      <th>volume</th>\n",
       "    </tr>\n",
       "    <tr>\n",
       "      <th>datetime</th>\n",
       "      <th></th>\n",
       "      <th></th>\n",
       "      <th></th>\n",
       "      <th></th>\n",
       "      <th></th>\n",
       "      <th></th>\n",
       "    </tr>\n",
       "  </thead>\n",
       "  <tbody>\n",
       "    <tr>\n",
       "      <th>2002-08-16 09:15:00</th>\n",
       "      <td>NSE:NIFTY_50</td>\n",
       "      <td>970.75000</td>\n",
       "      <td>981.20001</td>\n",
       "      <td>968.34998</td>\n",
       "      <td>979.25000</td>\n",
       "      <td>33890001.0</td>\n",
       "    </tr>\n",
       "    <tr>\n",
       "      <th>2002-08-19 09:15:00</th>\n",
       "      <td>NSE:NIFTY_50</td>\n",
       "      <td>979.40002</td>\n",
       "      <td>983.54999</td>\n",
       "      <td>978.20001</td>\n",
       "      <td>979.84998</td>\n",
       "      <td>29703999.0</td>\n",
       "    </tr>\n",
       "    <tr>\n",
       "      <th>2002-08-20 09:15:00</th>\n",
       "      <td>NSE:NIFTY_50</td>\n",
       "      <td>979.75000</td>\n",
       "      <td>990.84998</td>\n",
       "      <td>979.04999</td>\n",
       "      <td>988.54999</td>\n",
       "      <td>41503998.0</td>\n",
       "    </tr>\n",
       "    <tr>\n",
       "      <th>2002-08-21 09:15:00</th>\n",
       "      <td>NSE:NIFTY_50</td>\n",
       "      <td>988.59998</td>\n",
       "      <td>994.25000</td>\n",
       "      <td>984.34998</td>\n",
       "      <td>988.45001</td>\n",
       "      <td>55111000.0</td>\n",
       "    </tr>\n",
       "    <tr>\n",
       "      <th>2002-08-22 09:15:00</th>\n",
       "      <td>NSE:NIFTY_50</td>\n",
       "      <td>988.54999</td>\n",
       "      <td>995.29999</td>\n",
       "      <td>983.45001</td>\n",
       "      <td>985.70001</td>\n",
       "      <td>40654000.0</td>\n",
       "    </tr>\n",
       "    <tr>\n",
       "      <th>...</th>\n",
       "      <td>...</td>\n",
       "      <td>...</td>\n",
       "      <td>...</td>\n",
       "      <td>...</td>\n",
       "      <td>...</td>\n",
       "      <td>...</td>\n",
       "    </tr>\n",
       "    <tr>\n",
       "      <th>2022-10-20 09:15:00</th>\n",
       "      <td>NSE:NIFTY_50</td>\n",
       "      <td>17423.10000</td>\n",
       "      <td>17584.15000</td>\n",
       "      <td>17421.00000</td>\n",
       "      <td>17563.94900</td>\n",
       "      <td>249604832.0</td>\n",
       "    </tr>\n",
       "    <tr>\n",
       "      <th>2022-10-21 09:15:00</th>\n",
       "      <td>NSE:NIFTY_50</td>\n",
       "      <td>17622.85000</td>\n",
       "      <td>17670.15000</td>\n",
       "      <td>17520.75000</td>\n",
       "      <td>17576.30100</td>\n",
       "      <td>277702680.0</td>\n",
       "    </tr>\n",
       "    <tr>\n",
       "      <th>2022-10-24 18:15:00</th>\n",
       "      <td>NSE:NIFTY_50</td>\n",
       "      <td>17736.35000</td>\n",
       "      <td>17777.55000</td>\n",
       "      <td>17707.40000</td>\n",
       "      <td>17730.75000</td>\n",
       "      <td>45029477.0</td>\n",
       "    </tr>\n",
       "    <tr>\n",
       "      <th>2022-10-25 09:15:00</th>\n",
       "      <td>NSE:NIFTY_50</td>\n",
       "      <td>17808.30100</td>\n",
       "      <td>17811.50000</td>\n",
       "      <td>17637.00000</td>\n",
       "      <td>17656.35000</td>\n",
       "      <td>251358203.0</td>\n",
       "    </tr>\n",
       "    <tr>\n",
       "      <th>2022-10-27 09:15:00</th>\n",
       "      <td>NSE:NIFTY_50</td>\n",
       "      <td>17771.40000</td>\n",
       "      <td>17783.90000</td>\n",
       "      <td>17704.50000</td>\n",
       "      <td>17707.05000</td>\n",
       "      <td>178739833.0</td>\n",
       "    </tr>\n",
       "  </tbody>\n",
       "</table>\n",
       "<p>5000 rows × 6 columns</p>\n",
       "</div>"
      ],
      "text/plain": [
       "                           symbol         open         high          low  \\\n",
       "datetime                                                                   \n",
       "2002-08-16 09:15:00  NSE:NIFTY_50    970.75000    981.20001    968.34998   \n",
       "2002-08-19 09:15:00  NSE:NIFTY_50    979.40002    983.54999    978.20001   \n",
       "2002-08-20 09:15:00  NSE:NIFTY_50    979.75000    990.84998    979.04999   \n",
       "2002-08-21 09:15:00  NSE:NIFTY_50    988.59998    994.25000    984.34998   \n",
       "2002-08-22 09:15:00  NSE:NIFTY_50    988.54999    995.29999    983.45001   \n",
       "...                           ...          ...          ...          ...   \n",
       "2022-10-20 09:15:00  NSE:NIFTY_50  17423.10000  17584.15000  17421.00000   \n",
       "2022-10-21 09:15:00  NSE:NIFTY_50  17622.85000  17670.15000  17520.75000   \n",
       "2022-10-24 18:15:00  NSE:NIFTY_50  17736.35000  17777.55000  17707.40000   \n",
       "2022-10-25 09:15:00  NSE:NIFTY_50  17808.30100  17811.50000  17637.00000   \n",
       "2022-10-27 09:15:00  NSE:NIFTY_50  17771.40000  17783.90000  17704.50000   \n",
       "\n",
       "                           close       volume  \n",
       "datetime                                       \n",
       "2002-08-16 09:15:00    979.25000   33890001.0  \n",
       "2002-08-19 09:15:00    979.84998   29703999.0  \n",
       "2002-08-20 09:15:00    988.54999   41503998.0  \n",
       "2002-08-21 09:15:00    988.45001   55111000.0  \n",
       "2002-08-22 09:15:00    985.70001   40654000.0  \n",
       "...                          ...          ...  \n",
       "2022-10-20 09:15:00  17563.94900  249604832.0  \n",
       "2022-10-21 09:15:00  17576.30100  277702680.0  \n",
       "2022-10-24 18:15:00  17730.75000   45029477.0  \n",
       "2022-10-25 09:15:00  17656.35000  251358203.0  \n",
       "2022-10-27 09:15:00  17707.05000  178739833.0  \n",
       "\n",
       "[5000 rows x 6 columns]"
      ]
     },
     "execution_count": 7,
     "metadata": {},
     "output_type": "execute_result"
    }
   ],
   "source": [
    "niftydf"
   ]
  },
  {
   "cell_type": "code",
   "execution_count": 8,
   "metadata": {},
   "outputs": [
    {
     "data": {
      "text/plain": [
       "(5000, 1)"
      ]
     },
     "execution_count": 8,
     "metadata": {},
     "output_type": "execute_result"
    }
   ],
   "source": [
    "stock_prices = niftydf.close.values.astype('float32')\n",
    "stock_prices = stock_prices.reshape(5000, 1)\n",
    "stock_prices.shape"
   ]
  },
  {
   "cell_type": "code",
   "execution_count": 9,
   "metadata": {},
   "outputs": [
    {
     "data": {
      "image/png": "[encoded data removed]",
      "text/plain": [
       "<Figure size 432x288 with 1 Axes>"
      ]
     },
     "metadata": {
      "needs_background": "light"
     },
     "output_type": "display_data"
    }
   ],
   "source": [
    "plt.plot(stock_prices)\n",
    "plt.show()\n"
   ]
  },
  {
   "cell_type": "code",
   "execution_count": 25,
   "metadata": {},
   "outputs": [],
   "source": [
    "scaler = MinMaxScaler(feature_range=(0, 1))\n",
    "stock_prices = scaler.fit_transform(stock_prices)"
   ]
  },
  {
   "cell_type": "code",
   "execution_count": 26,
   "metadata": {},
   "outputs": [
    {
     "name": "stdout",
     "output_type": "stream",
     "text": [
      "4500 500\n"
     ]
    }
   ],
   "source": [
    "train_size = int(len(stock_prices) * 0.90)\n",
    "test_size = len(stock_prices) - train_size\n",
    "train, test = stock_prices[0:train_size,:], stock_prices[train_size:len(stock_prices),:]\n",
    "print(len(train), len(test))"
   ]
  },
  {
   "cell_type": "code",
   "execution_count": 27,
   "metadata": {},
   "outputs": [
    {
     "data": {
      "text/plain": [
       "array([[0.00322143],\n",
       "       [0.0032556 ],\n",
       "       [0.00375121],\n",
       "       ...,\n",
       "       [0.9574864 ],\n",
       "       [0.953248  ],\n",
       "       [0.9561362 ]], dtype=float32)"
      ]
     },
     "execution_count": 27,
     "metadata": {},
     "output_type": "execute_result"
    }
   ],
   "source": [
    "stock_prices"
   ]
  },
  {
   "cell_type": "code",
   "execution_count": 28,
   "metadata": {},
   "outputs": [],
   "source": [
    "# stock_prices[0: 1, 0], stock_prices[1, 0], stock_prices[:, 0]"
   ]
  },
  {
   "cell_type": "code",
   "execution_count": 29,
   "metadata": {},
   "outputs": [],
   "source": [
    "def create_dataset(dataset, look_back=1):\n",
    "\tdataX, dataY = [], []\n",
    "\tfor i in range(len(dataset)-look_back-1):\n",
    "\t\ta = dataset[i:(i+look_back), 0]\n",
    "\t\tdataX.append(a)\n",
    "\t\tdataY.append(dataset[i + look_back, 0])\n",
    "\treturn np.array(dataX), np.array(dataY)"
   ]
  },
  {
   "cell_type": "code",
   "execution_count": 30,
   "metadata": {},
   "outputs": [],
   "source": [
    "look_back = 5\n",
    "trainX, trainY = create_dataset(train, look_back)\n",
    "testX, testY = create_dataset(test, look_back)"
   ]
  },
  {
   "cell_type": "code",
   "execution_count": 31,
   "metadata": {},
   "outputs": [],
   "source": [
    "trainX = np.reshape(trainX, (trainX.shape[0], 1, trainX.shape[1]))\n",
    "testX = np.reshape(testX, (testX.shape[0], 1, testX.shape[1]))"
   ]
  },
  {
   "cell_type": "code",
   "execution_count": 32,
   "metadata": {},
   "outputs": [
    {
     "data": {
      "text/plain": [
       "(array([[[0.62512994, 0.62706107, 0.61779845, 0.6247284 , 0.61562514]],\n",
       " \n",
       "        [[0.62706107, 0.61779845, 0.6247284 , 0.61562514, 0.61227554]],\n",
       " \n",
       "        [[0.61779845, 0.6247284 , 0.61562514, 0.61227554, 0.61065775]],\n",
       " \n",
       "        ...,\n",
       " \n",
       "        [[0.926437  , 0.9336205 , 0.943598  , 0.9450393 , 0.94798434]],\n",
       " \n",
       "        [[0.9336205 , 0.943598  , 0.9450393 , 0.94798434, 0.94868803]],\n",
       " \n",
       "        [[0.943598  , 0.9450393 , 0.94798434, 0.94868803, 0.9574864 ]]],\n",
       "       dtype=float32),\n",
       " array([0.61227554, 0.61065775, 0.6121816 , 0.6204046 , 0.6258164 ,\n",
       "        0.63788176, 0.6460421 , 0.6572929 , 0.6669799 , 0.6737048 ,\n",
       "        0.67038083, 0.6720414 , 0.67547643, 0.6808284 , 0.68447703,\n",
       "        0.6749894 , 0.6799653 , 0.68380487, 0.69113636, 0.67992836,\n",
       "        0.68725413, 0.6862259 , 0.69420683, 0.6944746 , 0.69562244,\n",
       "        0.7027232 , 0.7082603 , 0.7103795 , 0.71813536, 0.7152415 ,\n",
       "        0.7172666 , 0.7197902 , 0.72034276, 0.7268853 , 0.7301894 ,\n",
       "        0.73132014, 0.70670235, 0.7145579 , 0.7222369 , 0.7306764 ,\n",
       "        0.73773736, 0.7411211 , 0.7439324 , 0.743921  , 0.7460145 ,\n",
       "        0.75253147, 0.75632536, 0.75329196, 0.7527849 , 0.7647421 ,\n",
       "        0.7725749 , 0.7770581 , 0.7771379 , 0.7788896 , 0.7696668 ,\n",
       "        0.7609852 , 0.7746485 , 0.7816866 , 0.7785905 , 0.76614636,\n",
       "        0.7585699 , 0.7431092 , 0.73456717, 0.72414523, 0.76097953,\n",
       "        0.781866  , 0.7899609 , 0.79598224, 0.7976115 , 0.80852324,\n",
       "        0.808153  , 0.8079935 , 0.8117988 , 0.81122917, 0.8198538 ,\n",
       "        0.8197826 , 0.8138268 , 0.8087027 , 0.800887  , 0.7834526 ,\n",
       "        0.7852812 , 0.80090123, 0.8074722 , 0.7751042 , 0.7883431 ,\n",
       "        0.79731804, 0.81591743, 0.8065266 , 0.7984004 , 0.7994315 ,\n",
       "        0.8075321 , 0.8118842 , 0.8036897 , 0.7979105 , 0.79682535,\n",
       "        0.7860502 , 0.7767391 , 0.7873433 , 0.7869104 , 0.79137367,\n",
       "        0.7762578 , 0.7634689 , 0.7738595 , 0.79310256, 0.78430706,\n",
       "        0.79437006, 0.7812936 , 0.7838969 , 0.79161865, 0.7947375 ,\n",
       "        0.7925187 , 0.7626657 , 0.77371705, 0.77808356, 0.7801571 ,\n",
       "        0.7654371 , 0.7618454 , 0.7680974 , 0.76440597, 0.77258915,\n",
       "        0.78216225, 0.79421055, 0.7959395 , 0.78091186, 0.78108567,\n",
       "        0.77324426, 0.7801571 , 0.7862496 , 0.79185224, 0.7986425 ,\n",
       "        0.7934244 , 0.78463745, 0.7835722 , 0.79754883, 0.8080846 ,\n",
       "        0.8036442 , 0.79657465, 0.8119127 , 0.8131888 , 0.81380117,\n",
       "        0.819099  , 0.82117254, 0.82674384, 0.83512634, 0.83467346,\n",
       "        0.8347504 , 0.84125304, 0.84010804, 0.8447451 , 0.84408706,\n",
       "        0.8381199 , 0.84395325, 0.8474623 , 0.8481744 , 0.85144424,\n",
       "        0.8456508 , 0.8413129 , 0.8408543 , 0.84445167, 0.845947  ,\n",
       "        0.8410594 , 0.84695536, 0.85093725, 0.84833676, 0.84456277,\n",
       "        0.84302753, 0.84066343, 0.8430674 , 0.84945613, 0.848539  ,\n",
       "        0.8520367 , 0.84339213, 0.8412217 , 0.8413812 , 0.8482029 ,\n",
       "        0.8505727 , 0.85457456, 0.85452896, 0.8447878 , 0.83793473,\n",
       "        0.8488694 , 0.8506923 , 0.8488922 , 0.84444886, 0.84233826,\n",
       "        0.84627175, 0.84539443, 0.85235006, 0.8663408 , 0.8736353 ,\n",
       "        0.87567466, 0.87246186, 0.873604  , 0.87484866, 0.87497115,\n",
       "        0.87965095, 0.8890332 , 0.89096725, 0.8939038 , 0.8912976 ,\n",
       "        0.8845557 , 0.88717324, 0.89447343, 0.895046  , 0.89517415,\n",
       "        0.8990649 , 0.91193074, 0.9233893 , 0.92020214, 0.9291971 ,\n",
       "        0.9342926 , 0.93738025, 0.9364858 , 0.93599594, 0.93689317,\n",
       "        0.9360985 , 0.93750554, 0.9454494 , 0.95171857, 0.94919217,\n",
       "        0.9384683 , 0.94787335, 0.94699895, 0.9627385 , 0.9644618 ,\n",
       "        0.96457005, 0.9585031 , 0.95637834, 0.951072  , 0.94616723,\n",
       "        0.9552362 , 0.96270156, 0.9526584 , 0.9608815 , 0.96685433,\n",
       "        0.9697454 , 0.97236574, 0.9820386 , 0.99211025, 1.        ,\n",
       "        0.99667895, 0.9880115 , 0.98297   , 0.97936976, 0.97996795,\n",
       "        0.9881141 , 0.98484135, 0.9646925 , 0.9541197 , 0.9688169 ,\n",
       "        0.96649826, 0.9630946 , 0.96808493, 0.9767295 , 0.97534513,\n",
       "        0.97380424, 0.96562386, 0.97867763, 0.97905934, 0.9727788 ,\n",
       "        0.9670509 , 0.95942605, 0.93958765, 0.9445323 , 0.93950224,\n",
       "        0.9464065 , 0.9173652 , 0.9189317 , 0.91490144, 0.9253661 ,\n",
       "        0.9387389 , 0.92706364, 0.9108597 , 0.9259243 , 0.94261825,\n",
       "        0.9453013 , 0.9449852 , 0.9368362 , 0.9343667 , 0.92847073,\n",
       "        0.9300088 , 0.91501534, 0.89388096, 0.90280473, 0.9133206 ,\n",
       "        0.9199942 , 0.91607213, 0.9207718 , 0.92914575, 0.9280264 ,\n",
       "        0.92747664, 0.9360273 , 0.95150197, 0.96173024, 0.9685662 ,\n",
       "        0.95834935, 0.9621546 , 0.97301245, 0.9760003 , 0.9849211 ,\n",
       "        0.9875103 , 0.9873935 , 0.99037564, 0.9792645 , 0.9693153 ,\n",
       "        0.95898163, 0.951015  , 0.92435205, 0.9316921 , 0.9221333 ,\n",
       "        0.9216661 , 0.93521833, 0.94871926, 0.96029186, 0.9477707 ,\n",
       "        0.94527006, 0.9280264 , 0.9310541 , 0.94227934, 0.95037127,\n",
       "        0.93720645, 0.9069035 , 0.9359361 , 0.93421286, 0.93321025,\n",
       "        0.9315982 , 0.9276305 , 0.9211107 , 0.91946155, 0.87301725,\n",
       "        0.89639896, 0.9041178 , 0.893411  , 0.8872645 , 0.87286913,\n",
       "        0.8510968 , 0.8596588 , 0.8785657 , 0.8927816 , 0.8948067 ,\n",
       "        0.908527  , 0.896661  , 0.9144542 , 0.93221056, 0.92255765,\n",
       "        0.9338312 , 0.9298522 , 0.9285476 , 0.92457426, 0.92850494,\n",
       "        0.93438953, 0.94424176, 0.9423334 , 0.95405126, 0.97586644,\n",
       "        0.9703977 , 0.9618671 , 0.95229113, 0.9605397 , 0.95430756,\n",
       "        0.9460676 , 0.94295436, 0.9257506 , 0.91350293, 0.9236372 ,\n",
       "        0.9382233 , 0.9256537 , 0.9132351 , 0.9272973 , 0.918046  ,\n",
       "        0.92981803, 0.92170036, 0.9197948 , 0.89749265, 0.89778036,\n",
       "        0.8823198 , 0.87608767, 0.87256724, 0.86841154, 0.8479551 ,\n",
       "        0.8464825 , 0.849909  , 0.8736638 , 0.8725814 , 0.84803486,\n",
       "        0.8740541 , 0.87112314, 0.8660219 , 0.86036223, 0.86858535,\n",
       "        0.8789702 , 0.89656985, 0.892192  , 0.8886715 , 0.89466715,\n",
       "        0.89217776, 0.8913375 , 0.88261026, 0.87918663, 0.88612795,\n",
       "        0.87038827, 0.8460411 , 0.8436313 , 0.8413556 , 0.8224685 ,\n",
       "        0.81864613, 0.82187325, 0.83831644, 0.8254706 , 0.8336367 ,\n",
       "        0.84176004, 0.8493251 , 0.8503591 , 0.84744805, 0.8463743 ,\n",
       "        0.8447678 , 0.8495131 , 0.8481174 , 0.8583115 , 0.86646336,\n",
       "        0.8714592 , 0.87119716, 0.8622137 , 0.8569928 , 0.8553977 ,\n",
       "        0.8616953 , 0.8747576 , 0.87829226, 0.8885632 , 0.89337116,\n",
       "        0.89987665, 0.89483804, 0.8864555 , 0.89545333, 0.91184807,\n",
       "        0.92487335, 0.9352298 , 0.93553734, 0.9379698 , 0.93761945,\n",
       "        0.93850243, 0.9457713 , 0.946321  , 0.95339906, 0.9556292 ,\n",
       "        0.96286964, 0.9696486 , 0.97034645, 0.95906425, 0.9438116 ,\n",
       "        0.94875634, 0.95032   , 0.9456203 , 0.9476968 , 0.93368316,\n",
       "        0.95911276, 0.9467796 , 0.9465887 , 0.9537865 , 0.95320535,\n",
       "        0.95142806, 0.96136   , 0.963331  , 0.96919847, 0.97681487,\n",
       "        0.9730381 , 0.96584046, 0.9460988 , 0.9513055 , 0.9623569 ,\n",
       "        0.95677996, 0.9517356 , 0.93450624, 0.9167871 , 0.91628003,\n",
       "        0.9078035 , 0.90549636, 0.9212332 , 0.90944123, 0.9314843 ,\n",
       "        0.9347598 , 0.9337828 , 0.92958724, 0.91492146, 0.9228994 ,\n",
       "        0.9166759 , 0.926437  , 0.9336205 , 0.943598  , 0.9450393 ,\n",
       "        0.94798434, 0.94868803, 0.9574864 , 0.953248  ], dtype=float32))"
      ]
     },
     "execution_count": 32,
     "metadata": {},
     "output_type": "execute_result"
    }
   ],
   "source": [
    "testX, testY"
   ]
  },
  {
   "cell_type": "code",
   "execution_count": 33,
   "metadata": {},
   "outputs": [
    {
     "name": "stdout",
     "output_type": "stream",
     "text": [
      "compilation time :  0.03099346160888672\n"
     ]
    }
   ],
   "source": [
    "model = Sequential()\n",
    "\n",
    "# model.add(LSTM(\n",
    "#     50,\n",
    "#     return_sequences=True))\n",
    "# model.add(Dropout(0.2))\n",
    "\n",
    "# model.add(LSTM(\n",
    "#     100,\n",
    "#     return_sequences=False))\n",
    "# model.add(Dropout(0.2))\n",
    "\n",
    "# model.add(Dense(\n",
    "#     output_dim=1))\n",
    "# model.add(Activation('linear'))\n",
    "model.add(LSTM(units = 50, return_sequences = True, input_shape = (trainX.shape[1],look_back)))\n",
    "model.add(Dropout(0.2))\n",
    "model.add(LSTM(units = 50, return_sequences = True))\n",
    "model.add(Dropout(0.2))\n",
    "model.add(LSTM(units = 50))\n",
    "model.add(Dropout(0.2))\n",
    "model.add(Dense(units=1))\n",
    "\n",
    "start = time.time()\n",
    "# model.compile(loss='mse', optimizer='rmsprop')\n",
    "model.compile(optimizer='adam', \n",
    "              loss='mean_squared_error')\n",
    "print ('compilation time : ', time.time() - start)"
   ]
  },
  {
   "cell_type": "code",
   "execution_count": 34,
   "metadata": {},
   "outputs": [
    {
     "name": "stdout",
     "output_type": "stream",
     "text": [
      "Model: \"sequential_1\"\n",
      "_________________________________________________________________\n",
      " Layer (type)                Output Shape              Param #   \n",
      "=================================================================\n",
      " lstm_3 (LSTM)               (None, 1, 50)             11200     \n",
      "                                                                 \n",
      " dropout_3 (Dropout)         (None, 1, 50)             0         \n",
      "                                                                 \n",
      " lstm_4 (LSTM)               (None, 1, 50)             20200     \n",
      "                                                                 \n",
      " dropout_4 (Dropout)         (None, 1, 50)             0         \n",
      "                                                                 \n",
      " lstm_5 (LSTM)               (None, 50)                20200     \n",
      "                                                                 \n",
      " dropout_5 (Dropout)         (None, 50)                0         \n",
      "                                                                 \n",
      " dense_1 (Dense)             (None, 1)                 51        \n",
      "                                                                 \n",
      "=================================================================\n",
      "Total params: 51,651\n",
      "Trainable params: 51,651\n",
      "Non-trainable params: 0\n",
      "_________________________________________________________________\n"
     ]
    }
   ],
   "source": [
    "model.summary()"
   ]
  },
  {
   "cell_type": "code",
   "execution_count": 35,
   "metadata": {},
   "outputs": [],
   "source": [
    "from keras.callbacks import ModelCheckpoint\n",
    "checkpointer = ModelCheckpoint(filepath = 'model.hdf5', verbose = 2, save_best_only = True)"
   ]
  },
  {
   "cell_type": "code",
   "execution_count": 36,
   "metadata": {},
   "outputs": [
    {
     "name": "stdout",
     "output_type": "stream",
     "text": [
      "Epoch 1/25\n",
      "30/34 [=========================>....] - ETA: 0s - loss: 0.0649\n",
      "Epoch 1: val_loss improved from inf to 0.03556, saving model to model.hdf5\n",
      "34/34 [==============================] - 11s 89ms/step - loss: 0.0602 - val_loss: 0.0356\n",
      "Epoch 2/25\n",
      "29/34 [========================>.....] - ETA: 0s - loss: 0.0120\n",
      "Epoch 2: val_loss improved from 0.03556 to 0.00496, saving model to model.hdf5\n",
      "34/34 [==============================] - 0s 14ms/step - loss: 0.0114 - val_loss: 0.0050\n",
      "Epoch 3/25\n",
      "34/34 [==============================] - ETA: 0s - loss: 0.0040\n",
      "Epoch 3: val_loss improved from 0.00496 to 0.00046, saving model to model.hdf5\n",
      "34/34 [==============================] - 0s 13ms/step - loss: 0.0040 - val_loss: 4.6334e-04\n",
      "Epoch 4/25\n",
      "28/34 [=======================>......] - ETA: 0s - loss: 0.0023\n",
      "Epoch 4: val_loss did not improve from 0.00046\n",
      "34/34 [==============================] - 0s 9ms/step - loss: 0.0023 - val_loss: 9.1501e-04\n",
      "Epoch 5/25\n",
      "32/34 [===========================>..] - ETA: 0s - loss: 0.0020\n",
      "Epoch 5: val_loss did not improve from 0.00046\n",
      "34/34 [==============================] - 0s 10ms/step - loss: 0.0021 - val_loss: 5.9316e-04\n",
      "Epoch 6/25\n",
      "34/34 [==============================] - ETA: 0s - loss: 0.0018\n",
      "Epoch 6: val_loss improved from 0.00046 to 0.00043, saving model to model.hdf5\n",
      "34/34 [==============================] - 0s 14ms/step - loss: 0.0018 - val_loss: 4.2930e-04\n",
      "Epoch 7/25\n",
      "28/34 [=======================>......] - ETA: 0s - loss: 0.0016\n",
      "Epoch 7: val_loss improved from 0.00043 to 0.00032, saving model to model.hdf5\n",
      "34/34 [==============================] - 0s 13ms/step - loss: 0.0015 - val_loss: 3.1621e-04\n",
      "Epoch 8/25\n",
      "28/34 [=======================>......] - ETA: 0s - loss: 0.0015\n",
      "Epoch 8: val_loss did not improve from 0.00032\n",
      "34/34 [==============================] - 0s 9ms/step - loss: 0.0015 - val_loss: 3.2359e-04\n",
      "Epoch 9/25\n",
      "32/34 [===========================>..] - ETA: 0s - loss: 0.0013\n",
      "Epoch 9: val_loss improved from 0.00032 to 0.00029, saving model to model.hdf5\n",
      "34/34 [==============================] - 0s 15ms/step - loss: 0.0013 - val_loss: 2.9418e-04\n",
      "Epoch 10/25\n",
      "28/34 [=======================>......] - ETA: 0s - loss: 0.0012\n",
      "Epoch 10: val_loss improved from 0.00029 to 0.00029, saving model to model.hdf5\n",
      "34/34 [==============================] - 0s 14ms/step - loss: 0.0012 - val_loss: 2.9136e-04\n",
      "Epoch 11/25\n",
      "34/34 [==============================] - ETA: 0s - loss: 0.0011\n",
      "Epoch 11: val_loss improved from 0.00029 to 0.00027, saving model to model.hdf5\n",
      "34/34 [==============================] - 0s 13ms/step - loss: 0.0011 - val_loss: 2.7289e-04\n",
      "Epoch 12/25\n",
      "28/34 [=======================>......] - ETA: 0s - loss: 0.0011\n",
      "Epoch 12: val_loss improved from 0.00027 to 0.00027, saving model to model.hdf5\n",
      "34/34 [==============================] - 0s 13ms/step - loss: 0.0011 - val_loss: 2.6966e-04\n",
      "Epoch 13/25\n",
      "32/34 [===========================>..] - ETA: 0s - loss: 0.0011\n",
      "Epoch 13: val_loss did not improve from 0.00027\n",
      "34/34 [==============================] - 0s 10ms/step - loss: 0.0011 - val_loss: 3.1204e-04\n",
      "Epoch 14/25\n",
      "28/34 [=======================>......] - ETA: 0s - loss: 0.0010\n",
      "Epoch 14: val_loss did not improve from 0.00027\n",
      "34/34 [==============================] - 0s 9ms/step - loss: 0.0010 - val_loss: 3.7114e-04\n",
      "Epoch 15/25\n",
      "28/34 [=======================>......] - ETA: 0s - loss: 9.7943e-04\n",
      "Epoch 15: val_loss did not improve from 0.00027\n",
      "34/34 [==============================] - 0s 9ms/step - loss: 9.8253e-04 - val_loss: 5.3228e-04\n",
      "Epoch 16/25\n",
      "31/34 [==========================>...] - ETA: 0s - loss: 9.7572e-04\n",
      "Epoch 16: val_loss did not improve from 0.00027\n",
      "34/34 [==============================] - 0s 11ms/step - loss: 9.8864e-04 - val_loss: 5.7499e-04\n",
      "Epoch 17/25\n",
      "30/34 [=========================>....] - ETA: 0s - loss: 9.6097e-04\n",
      "Epoch 17: val_loss did not improve from 0.00027\n",
      "34/34 [==============================] - 0s 11ms/step - loss: 9.8167e-04 - val_loss: 3.7513e-04\n",
      "Epoch 18/25\n",
      "29/34 [========================>.....] - ETA: 0s - loss: 9.9417e-04\n",
      "Epoch 18: val_loss did not improve from 0.00027\n",
      "34/34 [==============================] - 0s 9ms/step - loss: 9.7769e-04 - val_loss: 4.6831e-04\n",
      "Epoch 19/25\n",
      "34/34 [==============================] - ETA: 0s - loss: 9.0943e-04\n",
      "Epoch 19: val_loss did not improve from 0.00027\n",
      "34/34 [==============================] - 0s 10ms/step - loss: 9.0943e-04 - val_loss: 4.2883e-04\n",
      "Epoch 20/25\n",
      "28/34 [=======================>......] - ETA: 0s - loss: 8.4387e-04\n",
      "Epoch 20: val_loss did not improve from 0.00027\n",
      "34/34 [==============================] - 0s 9ms/step - loss: 8.3966e-04 - val_loss: 5.8902e-04\n",
      "Epoch 21/25\n",
      "32/34 [===========================>..] - ETA: 0s - loss: 8.8771e-04\n",
      "Epoch 21: val_loss did not improve from 0.00027\n",
      "34/34 [==============================] - 0s 10ms/step - loss: 8.8569e-04 - val_loss: 3.3763e-04\n",
      "Epoch 22/25\n",
      "33/34 [============================>.] - ETA: 0s - loss: 8.3455e-04\n",
      "Epoch 22: val_loss did not improve from 0.00027\n",
      "34/34 [==============================] - 0s 10ms/step - loss: 8.3417e-04 - val_loss: 3.4576e-04\n",
      "Epoch 23/25\n",
      "29/34 [========================>.....] - ETA: 0s - loss: 8.5325e-04\n",
      "Epoch 23: val_loss did not improve from 0.00027\n",
      "34/34 [==============================] - 0s 9ms/step - loss: 8.4008e-04 - val_loss: 4.0320e-04\n",
      "Epoch 24/25\n",
      "28/34 [=======================>......] - ETA: 0s - loss: 8.4443e-04\n",
      "Epoch 24: val_loss did not improve from 0.00027\n",
      "34/34 [==============================] - 0s 9ms/step - loss: 8.3816e-04 - val_loss: 7.0311e-04\n",
      "Epoch 25/25\n",
      "29/34 [========================>.....] - ETA: 0s - loss: 7.9523e-04\n",
      "Epoch 25: val_loss did not improve from 0.00027\n",
      "34/34 [==============================] - 0s 9ms/step - loss: 7.9234e-04 - val_loss: 4.5679e-04\n"
     ]
    },
    {
     "data": {
      "text/plain": [
       "<keras.callbacks.History at 0x218f1927970>"
      ]
     },
     "execution_count": 36,
     "metadata": {},
     "output_type": "execute_result"
    }
   ],
   "source": [
    "model.fit(\n",
    "    trainX,\n",
    "    trainY,\n",
    "    batch_size=128,\n",
    "    epochs=25,\n",
    "    callbacks=[checkpointer],\n",
    "    validation_split=0.05)"
   ]
  },
  {
   "cell_type": "code",
   "execution_count": 70,
   "metadata": {},
   "outputs": [],
   "source": [
    "model.save('model.hdf5')"
   ]
  },
  {
   "cell_type": "code",
   "execution_count": 23,
   "metadata": {},
   "outputs": [],
   "source": [
    "from keras.models import load_model\n",
    "\n",
    "model = load_model('model.hdf5')"
   ]
  },
  {
   "cell_type": "code",
   "execution_count": 37,
   "metadata": {},
   "outputs": [
    {
     "data": {
      "text/plain": [
       "array([[[0.62512994, 0.62706107, 0.61779845, 0.6247284 , 0.61562514]],\n",
       "\n",
       "       [[0.62706107, 0.61779845, 0.6247284 , 0.61562514, 0.61227554]],\n",
       "\n",
       "       [[0.61779845, 0.6247284 , 0.61562514, 0.61227554, 0.61065775]],\n",
       "\n",
       "       ...,\n",
       "\n",
       "       [[0.926437  , 0.9336205 , 0.943598  , 0.9450393 , 0.94798434]],\n",
       "\n",
       "       [[0.9336205 , 0.943598  , 0.9450393 , 0.94798434, 0.94868803]],\n",
       "\n",
       "       [[0.943598  , 0.9450393 , 0.94798434, 0.94868803, 0.9574864 ]]],\n",
       "      dtype=float32)"
      ]
     },
     "execution_count": 37,
     "metadata": {},
     "output_type": "execute_result"
    }
   ],
   "source": [
    "testX"
   ]
  },
  {
   "cell_type": "code",
   "execution_count": 44,
   "metadata": {},
   "outputs": [],
   "source": [
    "def predict(l = 1):\n",
    "    return model.predict(testX[:100])"
   ]
  },
  {
   "cell_type": "code",
   "execution_count": 39,
   "metadata": {},
   "outputs": [
    {
     "data": {
      "text/plain": [
       "array([[0.94359785, 0.94503915, 0.9479842 , 0.9486879 , 0.9574863 ]],\n",
       "      dtype=float32)"
      ]
     },
     "execution_count": 39,
     "metadata": {},
     "output_type": "execute_result"
    }
   ],
   "source": [
    "scaler.inverse_transform(testX[-1])"
   ]
  },
  {
   "cell_type": "code",
   "execution_count": 40,
   "metadata": {},
   "outputs": [
    {
     "name": "stdout",
     "output_type": "stream",
     "text": [
      "1/1 [==============================] - 2s 2s/step\n"
     ]
    },
    {
     "data": {
      "text/plain": [
       "array([[0.77468187]], dtype=float32)"
      ]
     },
     "execution_count": 40,
     "metadata": {},
     "output_type": "execute_result"
    }
   ],
   "source": [
    "model.predict(np.array([testX[-2]]))"
   ]
  },
  {
   "cell_type": "code",
   "execution_count": 41,
   "metadata": {},
   "outputs": [
    {
     "data": {
      "text/plain": [
       "array([[0.78776756]])"
      ]
     },
     "execution_count": 41,
     "metadata": {},
     "output_type": "execute_result"
    }
   ],
   "source": [
    "scaler.inverse_transform([[0.78776765]])"
   ]
  },
  {
   "cell_type": "code",
   "execution_count": 42,
   "metadata": {},
   "outputs": [
    {
     "name": "stdout",
     "output_type": "stream",
     "text": [
      "16/16 [==============================] - 0s 3ms/step\n"
     ]
    }
   ],
   "source": [
    "temp = predict(1)"
   ]
  },
  {
   "cell_type": "code",
   "execution_count": 46,
   "metadata": {},
   "outputs": [
    {
     "data": {
      "image/png": "[encoded data removed]",
      "text/plain": [
       "<Figure size 432x288 with 1 Axes>"
      ]
     },
     "metadata": {
      "needs_background": "light"
     },
     "output_type": "display_data"
    }
   ],
   "source": [
    "plt.plot(scaler.inverse_transform(temp[:50]), color='red', label='Predicted Stock Price')\n",
    "plt.plot(scaler.inverse_transform(testY[:50].reshape(-1, 1)), color='blue', label='Real Stock Price')\n",
    "plt.show()"
   ]
  },
  {
   "cell_type": "code",
   "execution_count": 81,
   "metadata": {},
   "outputs": [],
   "source": [
    "regressorGRU = Sequential()\n",
    "# First GRU layer with Dropout regularisation\n",
    "regressorGRU.add(GRU(units=50, return_sequences=True, input_shape=(trainX.shape[1],look_back), activation='tanh'))\n",
    "regressorGRU.add(Dropout(0.2))\n",
    "# Second GRU layer\n",
    "regressorGRU.add(GRU(units=50, return_sequences=True, input_shape=(trainX.shape[1],look_back), activation='tanh'))\n",
    "regressorGRU.add(Dropout(0.2))\n",
    "# Third GRU layer\n",
    "regressorGRU.add(GRU(units=50, return_sequences=True, input_shape=(trainX.shape[1],look_back), activation='tanh'))\n",
    "regressorGRU.add(Dropout(0.2))\n",
    "# Fourth GRU layer\n",
    "regressorGRU.add(GRU(units=50, activation='tanh'))\n",
    "regressorGRU.add(Dropout(0.2))\n",
    "# The output layer\n",
    "regressorGRU.add(Dense(units=1))"
   ]
  },
  {
   "cell_type": "code",
   "execution_count": 82,
   "metadata": {},
   "outputs": [
    {
     "name": "stdout",
     "output_type": "stream",
     "text": [
      "Epoch 1/25\n",
      "33/34 [============================>.] - ETA: 0s - loss: 0.0382\n",
      "Epoch 1: val_loss did not improve from 0.00014\n",
      "34/34 [==============================] - 24s 141ms/step - loss: 0.0380 - val_loss: 0.0498\n",
      "Epoch 2/25\n",
      "31/34 [==========================>...] - ETA: 0s - loss: 0.0074\n",
      "Epoch 2: val_loss did not improve from 0.00014\n",
      "34/34 [==============================] - 1s 20ms/step - loss: 0.0071 - val_loss: 0.0014\n",
      "Epoch 3/25\n",
      "34/34 [==============================] - ETA: 0s - loss: 0.0025\n",
      "Epoch 3: val_loss did not improve from 0.00014\n",
      "34/34 [==============================] - 1s 20ms/step - loss: 0.0025 - val_loss: 4.2270e-04\n",
      "Epoch 4/25\n",
      "31/34 [==========================>...] - ETA: 0s - loss: 0.0021\n",
      "Epoch 4: val_loss did not improve from 0.00014\n",
      "34/34 [==============================] - 1s 20ms/step - loss: 0.0021 - val_loss: 2.0743e-04\n",
      "Epoch 5/25\n",
      "34/34 [==============================] - ETA: 0s - loss: 0.0018\n",
      "Epoch 5: val_loss did not improve from 0.00014\n",
      "34/34 [==============================] - 1s 20ms/step - loss: 0.0018 - val_loss: 1.5097e-04\n",
      "Epoch 6/25\n",
      "31/34 [==========================>...] - ETA: 0s - loss: 0.0017\n",
      "Epoch 6: val_loss did not improve from 0.00014\n",
      "34/34 [==============================] - 1s 20ms/step - loss: 0.0017 - val_loss: 4.2910e-04\n",
      "Epoch 7/25\n",
      "32/34 [===========================>..] - ETA: 0s - loss: 0.0014\n",
      "Epoch 7: val_loss did not improve from 0.00014\n",
      "34/34 [==============================] - 1s 20ms/step - loss: 0.0013 - val_loss: 3.1178e-04\n",
      "Epoch 8/25\n",
      "31/34 [==========================>...] - ETA: 0s - loss: 0.0013\n",
      "Epoch 8: val_loss did not improve from 0.00014\n",
      "34/34 [==============================] - 1s 20ms/step - loss: 0.0013 - val_loss: 5.1334e-04\n",
      "Epoch 9/25\n",
      "33/34 [============================>.] - ETA: 0s - loss: 0.0012\n",
      "Epoch 9: val_loss did not improve from 0.00014\n",
      "34/34 [==============================] - 1s 20ms/step - loss: 0.0012 - val_loss: 3.1514e-04\n",
      "Epoch 10/25\n",
      "33/34 [============================>.] - ETA: 0s - loss: 0.0012\n",
      "Epoch 10: val_loss did not improve from 0.00014\n",
      "34/34 [==============================] - 1s 20ms/step - loss: 0.0012 - val_loss: 4.5778e-04\n",
      "Epoch 11/25\n",
      "33/34 [============================>.] - ETA: 0s - loss: 0.0012\n",
      "Epoch 11: val_loss did not improve from 0.00014\n",
      "34/34 [==============================] - 1s 22ms/step - loss: 0.0012 - val_loss: 3.4689e-04\n",
      "Epoch 12/25\n",
      "31/34 [==========================>...] - ETA: 0s - loss: 0.0011\n",
      "Epoch 12: val_loss did not improve from 0.00014\n",
      "34/34 [==============================] - 1s 19ms/step - loss: 0.0011 - val_loss: 4.0476e-04\n",
      "Epoch 13/25\n",
      "33/34 [============================>.] - ETA: 0s - loss: 0.0011\n",
      "Epoch 13: val_loss did not improve from 0.00014\n",
      "34/34 [==============================] - 1s 20ms/step - loss: 0.0011 - val_loss: 5.3347e-04\n",
      "Epoch 14/25\n",
      "32/34 [===========================>..] - ETA: 0s - loss: 0.0011\n",
      "Epoch 14: val_loss did not improve from 0.00014\n",
      "34/34 [==============================] - 1s 20ms/step - loss: 0.0010 - val_loss: 3.0743e-04\n",
      "Epoch 15/25\n",
      "32/34 [===========================>..] - ETA: 0s - loss: 0.0010\n",
      "Epoch 15: val_loss did not improve from 0.00014\n",
      "34/34 [==============================] - 1s 20ms/step - loss: 0.0010 - val_loss: 2.8950e-04\n",
      "Epoch 16/25\n",
      "34/34 [==============================] - ETA: 0s - loss: 9.1422e-04\n",
      "Epoch 16: val_loss did not improve from 0.00014\n",
      "34/34 [==============================] - 1s 21ms/step - loss: 9.1422e-04 - val_loss: 4.6182e-04\n",
      "Epoch 17/25\n",
      "32/34 [===========================>..] - ETA: 0s - loss: 9.8625e-04\n",
      "Epoch 17: val_loss did not improve from 0.00014\n",
      "34/34 [==============================] - 1s 20ms/step - loss: 9.8457e-04 - val_loss: 2.5973e-04\n",
      "Epoch 18/25\n",
      "31/34 [==========================>...] - ETA: 0s - loss: 9.9376e-04\n",
      "Epoch 18: val_loss did not improve from 0.00014\n",
      "34/34 [==============================] - 1s 20ms/step - loss: 9.7483e-04 - val_loss: 2.9500e-04\n",
      "Epoch 19/25\n",
      "32/34 [===========================>..] - ETA: 0s - loss: 9.7111e-04\n",
      "Epoch 19: val_loss did not improve from 0.00014\n",
      "34/34 [==============================] - 1s 20ms/step - loss: 9.6998e-04 - val_loss: 1.9000e-04\n",
      "Epoch 20/25\n",
      "33/34 [============================>.] - ETA: 0s - loss: 9.8145e-04\n",
      "Epoch 20: val_loss did not improve from 0.00014\n",
      "34/34 [==============================] - 1s 22ms/step - loss: 9.8035e-04 - val_loss: 4.6735e-04\n",
      "Epoch 21/25\n",
      "33/34 [============================>.] - ETA: 0s - loss: 9.3984e-04\n",
      "Epoch 21: val_loss did not improve from 0.00014\n",
      "34/34 [==============================] - 1s 21ms/step - loss: 9.3706e-04 - val_loss: 1.9278e-04\n",
      "Epoch 22/25\n",
      "32/34 [===========================>..] - ETA: 0s - loss: 9.2982e-04\n",
      "Epoch 22: val_loss did not improve from 0.00014\n",
      "34/34 [==============================] - 1s 20ms/step - loss: 9.3335e-04 - val_loss: 2.9140e-04\n",
      "Epoch 23/25\n",
      "32/34 [===========================>..] - ETA: 0s - loss: 9.5340e-04\n",
      "Epoch 23: val_loss did not improve from 0.00014\n",
      "34/34 [==============================] - 1s 21ms/step - loss: 9.5320e-04 - val_loss: 1.6623e-04\n",
      "Epoch 24/25\n",
      "33/34 [============================>.] - ETA: 0s - loss: 8.8316e-04\n",
      "Epoch 24: val_loss did not improve from 0.00014\n",
      "34/34 [==============================] - 1s 20ms/step - loss: 8.7986e-04 - val_loss: 1.8398e-04\n",
      "Epoch 25/25\n",
      "32/34 [===========================>..] - ETA: 0s - loss: 8.8294e-04\n",
      "Epoch 25: val_loss did not improve from 0.00014\n",
      "34/34 [==============================] - 1s 22ms/step - loss: 8.8739e-04 - val_loss: 3.1702e-04\n"
     ]
    },
    {
     "data": {
      "text/plain": [
       "<keras.callbacks.History at 0x25af28c4e80>"
      ]
     },
     "execution_count": 82,
     "metadata": {},
     "output_type": "execute_result"
    }
   ],
   "source": [
    "regressorGRU.compile(optimizer='adam', \n",
    "              loss='mean_squared_error')\n",
    "\n",
    "regressorGRU.fit(trainX,\n",
    "    trainY,\n",
    "    batch_size=128,\n",
    "    epochs=25,\n",
    "    callbacks=[checkpointer],\n",
    "    validation_split=0.05)"
   ]
  },
  {
   "cell_type": "code",
   "execution_count": 88,
   "metadata": {},
   "outputs": [
    {
     "name": "stdout",
     "output_type": "stream",
     "text": [
      "4/4 [==============================] - 0s 9ms/step\n"
     ]
    }
   ],
   "source": [
    "def predictGRU(l = 1):\n",
    "    return regressorGRU.predict(np.array(testX[: 100]))\n",
    "\n",
    "tt = predictGRU(1)"
   ]
  },
  {
   "cell_type": "code",
   "execution_count": 89,
   "metadata": {},
   "outputs": [
    {
     "data": {
      "image/png": "[encoded data removed]",
      "text/plain": [
       "<Figure size 432x288 with 1 Axes>"
      ]
     },
     "metadata": {
      "needs_background": "light"
     },
     "output_type": "display_data"
    }
   ],
   "source": [
    "plt.plot(scaler.inverse_transform(tt))\n",
    "plt.plot(scaler.inverse_transform(testY[:100].reshape(-1, 1)))\n",
    "plt.show()"
   ]
  },
  {
   "cell_type": "code",
   "execution_count": 87,
   "metadata": {},
   "outputs": [],
   "source": [
    "test = scaler.transform([[17971], [18846], [17038], [17215], [17331]])"
   ]
  },
  {
   "cell_type": "code",
   "execution_count": 146,
   "metadata": {},
   "outputs": [
    {
     "data": {
      "text/plain": [
       "array([[0.97117229],\n",
       "       [1.02101748],\n",
       "       [0.91802308],\n",
       "       [0.92810605],\n",
       "       [0.93471409]])"
      ]
     },
     "execution_count": 146,
     "metadata": {},
     "output_type": "execute_result"
    }
   ],
   "source": [
    "test"
   ]
  },
  {
   "cell_type": "code",
   "execution_count": 147,
   "metadata": {},
   "outputs": [],
   "source": [
    "test = test.reshape(1, 5)"
   ]
  },
  {
   "cell_type": "code",
   "execution_count": 148,
   "metadata": {},
   "outputs": [
    {
     "name": "stdout",
     "output_type": "stream",
     "text": [
      "1/1 [==============================] - 0s 63ms/step\n"
     ]
    },
    {
     "data": {
      "text/plain": [
       "array([[0.80638385]], dtype=float32)"
      ]
     },
     "execution_count": 148,
     "metadata": {},
     "output_type": "execute_result"
    }
   ],
   "source": [
    "model.predict(np.array([test]))"
   ]
  },
  {
   "cell_type": "code",
   "execution_count": 150,
   "metadata": {},
   "outputs": [
    {
     "data": {
      "text/plain": [
       "array([[15078.24575829]])"
      ]
     },
     "execution_count": 150,
     "metadata": {},
     "output_type": "execute_result"
    }
   ],
   "source": [
    "scaler.inverse_transform([[0.80638385]])"
   ]
  },
  {
   "cell_type": "code",
   "execution_count": null,
   "metadata": {},
   "outputs": [],
   "source": []
  }
 ],
 "metadata": {
  "kernelspec": {
   "display_name": "Python 3.10.1 ('venv': venv)",
   "language": "python",
   "name": "python3"
  },
  "language_info": {
   "codemirror_mode": {
    "name": "ipython",
    "version": 3
   },
   "file_extension": ".py",
   "mimetype": "text/x-python",
   "name": "python",
   "nbconvert_exporter": "python",
   "pygments_lexer": "ipython3",
   "version": "3.10.1"
  },
  "orig_nbformat": 4,
  "vscode": {
   "interpreter": {
    "hash": "b5d785cedae5a9f27f9d41a59469098eb379a24fa3f0b269b13da1297146fca8"
   }
  }
 },
 "nbformat": 4,
 "nbformat_minor": 2
}
